{
 "cells": [
  {
   "cell_type": "markdown",
   "metadata": {},
   "source": [
    "# Kepler Timeseries2Score musification. Kepler Objects of Interest (KOI) catalog. Samples:1-100\n",
    "\n",
    "Data download: https://archive.stsci.edu/pub/kepler/lightcurves/\n",
    "#### ACKNOWLEDGMENT\n",
    "This research includes data collected with the Kepler mission, obtained from the MAST data archive at the Space Telescope Science Institute (STScI). Funding for the Kepler mission is provided by the NASA Explorer Program and by the NASA Science Mission Directorate. STScI is operated by the Association of Universities for Research in Astronomy, Inc., under NASA contract NAS 5–26555.\n"
   ]
  },
  {
   "cell_type": "code",
   "execution_count": null,
   "metadata": {},
   "outputs": [],
   "source": [
    "import astropy\n",
    "from astropy.timeseries import TimeSeries\n",
    "\n",
    "from astropy import units as u\n",
    "from astropy.timeseries import BoxLeastSquares\n",
    "from astropy.stats import sigma_clipped_stats\n",
    "from astropy.timeseries import aggregate_downsample\n",
    "\n",
    "import matplotlib.pylab as plt\n",
    "from scipy.signal import find_peaks\n",
    "\n",
    "import numpy as np\n",
    "\n",
    "import os\n",
    "from pathlib import Path\n",
    "\n",
    "import random\n",
    "\n",
    "import time\n",
    "from pythonosc import udp_client\n",
    "\n",
    "import math\n",
    "from math import log2, pow"
   ]
  },
  {
   "cell_type": "markdown",
   "metadata": {},
   "source": [
    "## Checking the library"
   ]
  },
  {
   "cell_type": "code",
   "execution_count": null,
   "metadata": {},
   "outputs": [],
   "source": [
    "root = '## YOUR FOLDER PATH TO THE DOWNLOADED SPECTRA ##'"
   ]
  },
  {
   "cell_type": "code",
   "execution_count": null,
   "metadata": {},
   "outputs": [],
   "source": [
    "for path, subdirs, files in os.walk(root):\n",
    "    for name in files:\n",
    "        print([os.path.join(path, name)])"
   ]
  },
  {
   "cell_type": "code",
   "execution_count": null,
   "metadata": {},
   "outputs": [],
   "source": [
    "len(files)"
   ]
  },
  {
   "cell_type": "code",
   "execution_count": null,
   "metadata": {},
   "outputs": [],
   "source": [
    "file = [os.path.join(path, name)]\n",
    "str = \" \" \n",
    "Ffile = (str.join(file))  \n",
    "\n",
    "route = Path(Ffile)\n",
    "\n",
    "Fname = route.with_suffix('')"
   ]
  },
  {
   "cell_type": "code",
   "execution_count": null,
   "metadata": {},
   "outputs": [],
   "source": [
    "NumSamp=100\n",
    "sample = files [0:NumSamp]\n",
    "sample"
   ]
  },
  {
   "cell_type": "markdown",
   "metadata": {},
   "source": [
    "## Periodogram analysis for each light curve"
   ]
  },
  {
   "cell_type": "code",
   "execution_count": null,
   "metadata": {
    "scrolled": true
   },
   "outputs": [],
   "source": [
    "curves=0\n",
    "freq = np.zeros((len(sample), 1))\n",
    "dur = np.zeros((len(sample), 1))\n",
    "amp = np.zeros((len(sample), 1))\n",
    "\n",
    "i = 0\n",
    "tempo = 1\n",
    "for path, subdirs, files in os.walk(root):\n",
    "    for name in sample: #changing \"sample\" by \"files\" explores the whole folder\n",
    "        curves=curves+1\n",
    "        file = [os.path.join(path, name)]\n",
    "        str = \" \" \n",
    "        Ffile = (str.join(file))\n",
    "        route = Path(name)\n",
    "        Fname = route.with_suffix('')\n",
    "        Fpng = route.with_suffix('.png')\n",
    "\n",
    "#Graph\n",
    "        filename = Ffile\n",
    "        ts = TimeSeries.read(filename, format='kepler.fits')  \n",
    "        \n",
    "        fig, ax = plt.subplots(3, 1, figsize=(8, 12))\n",
    "        fig.suptitle(Fname, size=14)\n",
    "        fig.subplots_adjust(hspace=0.35, wspace=0.15, left=0.07, right=0.97)\n",
    "        \n",
    "        ax[0].plot(ts.time.jd, ts['sap_flux'], 'k.', markersize=1, color='blue')\n",
    "        ax[0].set_xlabel('Julian Date')\n",
    "        ax[0].set_ylabel('SAP Flux (e-/s)')\n",
    "    \n",
    "        \n",
    "        model = BoxLeastSquares.from_timeseries(ts, 'sap_flux') \n",
    "        \n",
    "        periodogram = model.autopower(0.2 * u.day)  \n",
    "        max_samp = np.argmax(periodogram.power) \n",
    "        \n",
    "        period = periodogram.period[max_samp]\n",
    "\n",
    "        dyn = periodogram.power[max_samp]\n",
    "        \n",
    "        duration = periodogram.transit_time[max_samp]  \n",
    "\n",
    "#To obtain a graphical representation of the light curve, its periodogram and folded curve, uncomment \"plt.savefig('Spectra.png')\"\n",
    "          \n",
    "        ax[1].plot(periodogram.period, periodogram.power, 'k.', markersize=1)\n",
    "        ax[1].set_xlabel('Period (d)')\n",
    "        ax[1].set_ylabel('Power')\n",
    "        ax[1].axvline(period.value, color='r');\n",
    "        ax[1].text(0.03,0.83,'{:.3f}'.format(period), transform=ax[1].transAxes, color='r') \n",
    "    \n",
    "        transit_time = periodogram.transit_time[max_samp]  \n",
    "        ts_folded = ts.fold(period=period, epoch_time=transit_time)  \n",
    "        \n",
    "        \n",
    "        mean, median, stddev = sigma_clipped_stats(ts_folded['sap_flux'])  \n",
    "        ts_folded['sap_flux_norm'] = ts_folded['sap_flux'] / median  \n",
    "        \n",
    "        ts_binned = aggregate_downsample(ts_folded, time_bin_size=0.03 * u.day) \n",
    "        \n",
    "        ax[2].plot(ts_folded.time.jd, ts_folded['sap_flux_norm'], 'k.', markersize=1)\n",
    "        ax[2].plot(ts_binned.time_bin_start.jd, ts_binned['sap_flux_norm'], 'r.', drawstyle='steps-post')\n",
    "        ax[2].set_xlabel('Time (days)')\n",
    "        ax[2].set_ylabel('Normalized flux')\n",
    "#        plt.savefig('Spectra.png')\n",
    "        \n",
    "        freq[i] = (1/period)* 1000    #Fundamental frequency of each note\n",
    "        amp[i] = dyn / 1000           #Amplitude of each note\n",
    "        dur[i] = mean                 #Duration of each note\n",
    "        i += 1\n",
    "        \n",
    "print (\"KOI represented:\",curves, \"curves\");\n",
    "\n",
    "        "
   ]
  },
  {
   "cell_type": "code",
   "execution_count": null,
   "metadata": {},
   "outputs": [],
   "source": [
    "period"
   ]
  },
  {
   "cell_type": "code",
   "execution_count": null,
   "metadata": {},
   "outputs": [],
   "source": [
    "dyn"
   ]
  },
  {
   "cell_type": "code",
   "execution_count": null,
   "metadata": {},
   "outputs": [],
   "source": [
    "duration"
   ]
  },
  {
   "cell_type": "code",
   "execution_count": null,
   "metadata": {
    "scrolled": true
   },
   "outputs": [],
   "source": [
    "freq"
   ]
  },
  {
   "cell_type": "markdown",
   "metadata": {},
   "source": [
    "Duration=mean//////How to process amplitude in Music21?????"
   ]
  },
  {
   "cell_type": "code",
   "execution_count": null,
   "metadata": {
    "scrolled": false
   },
   "outputs": [],
   "source": [
    "dur"
   ]
  },
  {
   "cell_type": "code",
   "execution_count": null,
   "metadata": {},
   "outputs": [],
   "source": [
    "amp"
   ]
  },
  {
   "cell_type": "code",
   "execution_count": null,
   "metadata": {},
   "outputs": [],
   "source": [
    "dur_Mean = sigma_clipped_stats(dur)[0]\n",
    "dur_Mean"
   ]
  },
  {
   "cell_type": "code",
   "execution_count": null,
   "metadata": {},
   "outputs": [],
   "source": [
    "amp_Stddev = sigma_clipped_stats(amp)[1]\n",
    "amp_Stddev"
   ]
  },
  {
   "cell_type": "markdown",
   "metadata": {},
   "source": [
    "## Logarithmic transformation of the amplitudes"
   ]
  },
  {
   "cell_type": "code",
   "execution_count": null,
   "metadata": {},
   "outputs": [],
   "source": [
    "from sklearn.preprocessing import FunctionTransformer\n",
    "transformer = FunctionTransformer(np.log1p, validate=True)\n",
    "ampLog = transformer.transform(amp)"
   ]
  },
  {
   "cell_type": "code",
   "execution_count": null,
   "metadata": {},
   "outputs": [],
   "source": [
    "ampLog"
   ]
  },
  {
   "cell_type": "markdown",
   "metadata": {},
   "source": [
    "## Normalization"
   ]
  },
  {
   "cell_type": "code",
   "execution_count": null,
   "metadata": {},
   "outputs": [],
   "source": [
    "from sklearn import preprocessing\n",
    "min_max_scaler = preprocessing.MinMaxScaler()\n",
    "amp_OK = np.round(min_max_scaler.fit_transform(ampLog)*127)"
   ]
  },
  {
   "cell_type": "code",
   "execution_count": null,
   "metadata": {},
   "outputs": [],
   "source": [
    "amp_OK = amp_OK.astype(int)"
   ]
  },
  {
   "cell_type": "code",
   "execution_count": null,
   "metadata": {},
   "outputs": [],
   "source": [
    "amp_OK"
   ]
  },
  {
   "cell_type": "code",
   "execution_count": null,
   "metadata": {},
   "outputs": [],
   "source": [
    "for j in range (len(amp_OK)):\n",
    "    if amp_OK[j] == 0:\n",
    "        amp_OK[j] = 1"
   ]
  },
  {
   "cell_type": "code",
   "execution_count": null,
   "metadata": {},
   "outputs": [],
   "source": [
    "amp_OK"
   ]
  },
  {
   "cell_type": "code",
   "execution_count": null,
   "metadata": {},
   "outputs": [],
   "source": [
    "curves"
   ]
  },
  {
   "cell_type": "markdown",
   "metadata": {},
   "source": [
    "## Score generation"
   ]
  },
  {
   "cell_type": "code",
   "execution_count": null,
   "metadata": {},
   "outputs": [],
   "source": [
    "from music21 import *"
   ]
  },
  {
   "cell_type": "code",
   "execution_count": null,
   "metadata": {},
   "outputs": [],
   "source": [
    "s = stream.Stream()\n",
    "n = 120\n",
    "s.append(tempo.MetronomeMark(number=n))\n",
    "\n",
    "for k in range(curves):\n",
    "    exec(f'n{k} = note.Note()')"
   ]
  },
  {
   "cell_type": "code",
   "execution_count": null,
   "metadata": {},
   "outputs": [],
   "source": [
    "A4 = 440\n",
    "C0 = A4*pow(2, -4.75)\n",
    "name = [\"C\", \"C#\", \"D\", \"D#\", \"E\", \"F\", \"F#\", \"G\", \"G#\", \"A\", \"A#\", \"B\"]\n",
    "    \n",
    "def pitch(f):\n",
    "    h = round(12*log2(f/C0))\n",
    "    octave = h // 12\n",
    "    n = h % 12\n",
    "    return name[n]# + str(octave)"
   ]
  },
  {
   "cell_type": "code",
   "execution_count": null,
   "metadata": {
    "scrolled": true
   },
   "outputs": [],
   "source": [
    "pitch(440)"
   ]
  },
  {
   "cell_type": "code",
   "execution_count": null,
   "metadata": {},
   "outputs": [],
   "source": [
    "durations = [\"whole\",\"half\", \"quarter\", \"eighth\"]#, \"16th\"]#, \"32nd\", \"64th\"]\n",
    "for i in range(curves):\n",
    "    if dur[i] >= (dur_Mean * 2):\n",
    "        figure = durations[0]\n",
    "    if (dur[i] >= dur_Mean) and (dur[i] < dur_Mean * 2):\n",
    "        figure = durations[1]\n",
    "    if (dur[i] > dur_Mean / 2) and (dur[i] <= dur_Mean):\n",
    "        figure = durations[2]\n",
    "    if dur[i] <= (dur_Mean / 2):\n",
    "        figure = durations[3]\n",
    "   \n",
    "    exec(f'n{i}.pitch.name = pitch(freq[i])')\n",
    "    exec(f'n{i}.duration.type = figure')"
   ]
  },
  {
   "cell_type": "code",
   "execution_count": null,
   "metadata": {},
   "outputs": [],
   "source": [
    "#velocities\n",
    "for j in range(curves):\n",
    "    amplitude = amp_OK[j][0]\n",
    "    exec(f'n{j}.volume.velocity = amplitude')"
   ]
  },
  {
   "cell_type": "code",
   "execution_count": null,
   "metadata": {},
   "outputs": [],
   "source": [
    "for j in range(curves):\n",
    "    exec(f's.append(n{j})')\n",
    "s.show()"
   ]
  },
  {
   "cell_type": "code",
   "execution_count": null,
   "metadata": {
    "scrolled": false
   },
   "outputs": [],
   "source": [
    "s.show('midi')"
   ]
  },
  {
   "cell_type": "code",
   "execution_count": null,
   "metadata": {},
   "outputs": [],
   "source": [
    "s.show('musicxml')"
   ]
  },
  {
   "cell_type": "code",
   "execution_count": null,
   "metadata": {},
   "outputs": [],
   "source": [
    "import session_info\n",
    "session_info.show()"
   ]
  }
 ],
 "metadata": {
  "kernelspec": {
   "display_name": "Python 3 (ipykernel)",
   "language": "python",
   "name": "python3"
  },
  "language_info": {
   "codemirror_mode": {
    "name": "ipython",
    "version": 3
   },
   "file_extension": ".py",
   "mimetype": "text/x-python",
   "name": "python",
   "nbconvert_exporter": "python",
   "pygments_lexer": "ipython3",
   "version": "3.8.5"
  }
 },
 "nbformat": 4,
 "nbformat_minor": 4
}
